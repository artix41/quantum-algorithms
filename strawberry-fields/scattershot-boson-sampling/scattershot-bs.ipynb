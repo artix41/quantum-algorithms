{
 "cells": [
  {
   "cell_type": "markdown",
   "metadata": {},
   "source": [
    "# Scattershot Boson Sampling\n",
    "\n",
    "Implementation of [this paper](https://arxiv.org/pdf/1305.4346.pdf) in Strawberry Fields"
   ]
  },
  {
   "cell_type": "code",
   "execution_count": 1,
   "metadata": {
    "collapsed": true
   },
   "outputs": [],
   "source": [
    "import numpy as np\n",
    "import scipy as sp\n",
    "import matplotlib.pyplot as plt\n",
    "from math import factorial, tanh\n",
    "\n",
    "import strawberryfields as sf\n",
    "from strawberryfields.ops import *"
   ]
  },
  {
   "cell_type": "markdown",
   "metadata": {},
   "source": [
    "## Compute the circuit"
   ]
  },
  {
   "cell_type": "markdown",
   "metadata": {},
   "source": [
    "### Constants"
   ]
  },
  {
   "cell_type": "code",
   "execution_count": 2,
   "metadata": {
    "collapsed": true
   },
   "outputs": [],
   "source": [
    "r_squeezing = 0.4\n",
    "cutoff = 5"
   ]
  },
  {
   "cell_type": "markdown",
   "metadata": {},
   "source": [
    "### Circuit"
   ]
  },
  {
   "cell_type": "code",
   "execution_count": 3,
   "metadata": {
    "collapsed": true
   },
   "outputs": [],
   "source": [
    "eng, q = sf.Engine(8)"
   ]
  },
  {
   "cell_type": "code",
   "execution_count": 4,
   "metadata": {
    "collapsed": true
   },
   "outputs": [],
   "source": [
    "with eng:\n",
    "    S2gate(r_squeezing) | (q[0], q[4])\n",
    "    S2gate(r_squeezing) | (q[1], q[5])\n",
    "    S2gate(r_squeezing) | (q[2], q[6])\n",
    "    S2gate(r_squeezing) | (q[3], q[7])\n",
    "\n",
    "    Rgate(0.5719)  | q[0]\n",
    "    Rgate(-1.9782) | q[1]\n",
    "    Rgate(2.0603)  | q[2]\n",
    "    Rgate(0.0644)  | q[3]\n",
    "\n",
    "    BSgate(0.7804, 0.8578)  | (q[4], q[5])\n",
    "    BSgate(0.06406, 0.5165) | (q[6], q[7])\n",
    "    BSgate(0.473, 0.1176)   | (q[5], q[6])\n",
    "    BSgate(0.563, 0.1517)   | (q[4], q[5])\n",
    "    BSgate(0.1323, 0.9946)  | (q[6], q[7])\n",
    "    BSgate(0.311, 0.3231)   | (q[5], q[6])\n",
    "    BSgate(0.4348, 0.0798)  | (q[4], q[5])\n",
    "    BSgate(0.4368, 0.6157)  | (q[6], q[7])"
   ]
  },
  {
   "cell_type": "markdown",
   "metadata": {},
   "source": [
    "### Running"
   ]
  },
  {
   "cell_type": "code",
   "execution_count": 5,
   "metadata": {
    "collapsed": true
   },
   "outputs": [],
   "source": [
    "state = eng.run('fock', cutoff_dim=cutoff)"
   ]
  },
  {
   "cell_type": "code",
   "execution_count": 6,
   "metadata": {
    "collapsed": true
   },
   "outputs": [],
   "source": [
    "probs = state.all_fock_probs()"
   ]
  },
  {
   "cell_type": "code",
   "execution_count": 7,
   "metadata": {},
   "outputs": [],
   "source": [
    "probs = probs.reshape(*[cutoff]*8)"
   ]
  },
  {
   "cell_type": "code",
   "execution_count": 8,
   "metadata": {},
   "outputs": [
    {
     "data": {
      "text/plain": [
       "0.9894043325077697"
      ]
     },
     "execution_count": 8,
     "metadata": {},
     "output_type": "execute_result"
    }
   ],
   "source": [
    "np.sum(probs)"
   ]
  },
  {
   "cell_type": "markdown",
   "metadata": {
    "collapsed": true
   },
   "source": [
    "## Analysis"
   ]
  },
  {
   "cell_type": "markdown",
   "metadata": {},
   "source": [
    "### Get the unitary matrix"
   ]
  },
  {
   "cell_type": "code",
   "execution_count": 9,
   "metadata": {
    "collapsed": true
   },
   "outputs": [],
   "source": [
    "R = np.diag([np.exp(0.5719*1j),np.exp(-1.9782*1j),np.exp(2.0603*1j),np.exp(0.0644*1j)])"
   ]
  },
  {
   "cell_type": "code",
   "execution_count": 10,
   "metadata": {
    "collapsed": true
   },
   "outputs": [],
   "source": [
    "BSargs = [(0.7804, 0.8578),\n",
    "          (0.06406, 0.5165),\n",
    "          (0.473, 0.1176),\n",
    "          (0.563, 0.1517),\n",
    "          (0.1323, 0.9946),\n",
    "          (0.311, 0.3231),\n",
    "          (0.4348, 0.0798),\n",
    "          (0.4368, 0.6157)\n",
    "         ]"
   ]
  },
  {
   "cell_type": "code",
   "execution_count": 11,
   "metadata": {
    "collapsed": true
   },
   "outputs": [],
   "source": [
    "def get_BS_matrix(theta, phi):\n",
    "    return [[np.cos(theta), - np.exp(-1j * phi) * np.sin(theta)], [np.exp(1j * phi) * np.sin(theta), np.cos(theta)]]"
   ]
  },
  {
   "cell_type": "code",
   "execution_count": 12,
   "metadata": {
    "collapsed": true
   },
   "outputs": [],
   "source": [
    "BS_matrices = np.array([get_BS_matrix(theta, phi) for (theta,phi) in BSargs])"
   ]
  },
  {
   "cell_type": "code",
   "execution_count": 13,
   "metadata": {
    "collapsed": true
   },
   "outputs": [],
   "source": [
    "UBS1 = sp.linalg.block_diag(*BS_matrices[0:2])\n",
    "UBS2 = sp.linalg.block_diag([[1]], BS_matrices[2], [[1]])\n",
    "UBS3 = sp.linalg.block_diag(*BS_matrices[3:5])\n",
    "UBS4 = sp.linalg.block_diag([[1]], BS_matrices[5], [[1]])\n",
    "UBS5 = sp.linalg.block_diag(*BS_matrices[6:8])"
   ]
  },
  {
   "cell_type": "code",
   "execution_count": 14,
   "metadata": {
    "collapsed": true
   },
   "outputs": [],
   "source": [
    "U = np.linalg.multi_dot([UBS5, UBS4, UBS3, UBS2, UBS1, R])"
   ]
  },
  {
   "cell_type": "markdown",
   "metadata": {},
   "source": [
    "### Compute the theoretical probability"
   ]
  },
  {
   "cell_type": "markdown",
   "metadata": {},
   "source": [
    "We use mostly the section V of [this paper](https://arxiv.org/pdf/1212.2240.pdf) as well as [the official tutorial](https://strawberryfields.readthedocs.io/en/latest/tutorials/tutorial_boson_sampling.html#boson-tutorial)"
   ]
  },
  {
   "cell_type": "code",
   "execution_count": 15,
   "metadata": {
    "collapsed": true
   },
   "outputs": [],
   "source": [
    "def perm(M):\n",
    "    n_output = M.shape[0]\n",
    "    n_input = M.shape[1]\n",
    "    if n_output != n_input: # no conservation of photon number\n",
    "        return 0\n",
    "    n = n_input\n",
    "    if n == 0:\n",
    "        return 1\n",
    "    d = np.ones(n)\n",
    "    j =  0\n",
    "    s = 1\n",
    "    f = np.arange(n)\n",
    "    v = M.sum(axis=0)\n",
    "    p = np.prod(v)\n",
    "    while (j < n-1):\n",
    "        v -= 2*d[j]*M[j]\n",
    "        d[j] = -d[j]\n",
    "        s = -s\n",
    "        prod = np.prod(v)\n",
    "        p += s*prod\n",
    "        f[0] = 0\n",
    "        f[j] = f[j+1]\n",
    "        f[j+1] = j+1\n",
    "        j = f[0]    \n",
    "    \n",
    "    return p/2**(n-1)"
   ]
  },
  {
   "cell_type": "code",
   "execution_count": 16,
   "metadata": {
    "collapsed": true
   },
   "outputs": [],
   "source": [
    "def get_proba_output(U, input, output):\n",
    "    list_rows = sum([[i] * output[i] for i in range(len(output))],[])\n",
    "    list_columns = sum([[i] * input[i] for i in range(len(input))],[])\n",
    "    U_st = U[:,list_columns][list_rows,:]\n",
    "    perm_squared = np.abs(perm(U_st))**2\n",
    "    denominator = np.prod([factorial(inp) for inp in input]) * np.prod([factorial(out) for out in output])\n",
    "    return perm_squared / denominator"
   ]
  },
  {
   "cell_type": "code",
   "execution_count": 17,
   "metadata": {
    "collapsed": true
   },
   "outputs": [],
   "source": [
    "def get_proba_input(input):\n",
    "    chi = np.tanh(r_squeezing)\n",
    "    n = np.sum(input)\n",
    "    m = len(input)\n",
    "    return (1 - chi**2)**m * chi**(2*n)"
   ]
  },
  {
   "cell_type": "code",
   "execution_count": 18,
   "metadata": {
    "collapsed": true
   },
   "outputs": [],
   "source": [
    "def get_proba(U, result):\n",
    "    input, output = result[0:4], result[4:8]\n",
    "    return get_proba_output(U, input, output) * get_proba_input(input)"
   ]
  },
  {
   "cell_type": "markdown",
   "metadata": {},
   "source": [
    "## Compare the simulation with the theory"
   ]
  },
  {
   "cell_type": "code",
   "execution_count": 19,
   "metadata": {},
   "outputs": [
    {
     "name": "stdout",
     "output_type": "stream",
     "text": [
      "0.535996373869716\n",
      "0.5359963738697161\n"
     ]
    }
   ],
   "source": [
    "print(get_proba(U, [0,0,0,0,0,0,0,0]))\n",
    "print(probs[0,0,0,0,0,0,0,0])"
   ]
  },
  {
   "cell_type": "code",
   "execution_count": 20,
   "metadata": {},
   "outputs": [
    {
     "name": "stdout",
     "output_type": "stream",
     "text": [
      "0.008821826459915328\n",
      "0.008821826459915326\n"
     ]
    }
   ],
   "source": [
    "print(get_proba(U, [1,0,0,0,1,0,0,0]))\n",
    "print(probs[1,0,0,0,1,0,0,0])"
   ]
  },
  {
   "cell_type": "code",
   "execution_count": null,
   "metadata": {
    "collapsed": true
   },
   "outputs": [],
   "source": []
  }
 ],
 "metadata": {
  "kernelspec": {
   "display_name": "Python [conda env:sf]",
   "language": "python",
   "name": "conda-env-sf-py"
  },
  "language_info": {
   "codemirror_mode": {
    "name": "ipython",
    "version": 3
   },
   "file_extension": ".py",
   "mimetype": "text/x-python",
   "name": "python",
   "nbconvert_exporter": "python",
   "pygments_lexer": "ipython3",
   "version": "3.6.5"
  }
 },
 "nbformat": 4,
 "nbformat_minor": 2
}
