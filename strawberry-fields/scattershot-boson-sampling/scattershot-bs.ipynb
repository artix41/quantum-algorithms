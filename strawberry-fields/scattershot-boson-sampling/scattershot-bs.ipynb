{
 "cells": [
  {
   "cell_type": "markdown",
   "metadata": {},
   "source": [
    "# Scattershot Boson Sampling\n",
    "\n",
    "Implementation of [this paper](https://arxiv.org/pdf/1305.4346.pdf) in Strawberry Fields.\n",
    "\n",
    "As we have seen in the Boson Sampling (BS) tutorial, a boson sampler is a quantum machine that takes a deterministic input made of $m$ modes, $n$ of them sending photons simultaneously through an interferometer modeled by a unitary matrix $U$. The output of the interferometer is a random distribution of photons that can be computed classically with the permanent of $U$. \n",
    "\n",
    "Scattershot Boson Sampling (SBS) was motivated by the fact that emitting $n$ photons simultaneously in the input is experimentally very hard to realize for large $n$. What is simpler to build is a random input using Spontaneous Parametric Down-Conversion (SPDC), whose distribution is given by $P(k_i = k)=(1-\\chi^2) \\chi^{2 k}$ where $k_i$ is the number of photon in mode i and $\\chi \\in (-1,1)$ is a given parameter (equation (7) of the paper). The advantage of SPDC is not only that it's a coherent source of photons but also that it always emit an even number of photons: one that can be used in a boson sampling circuit and one to measure the input.\n",
    "\n",
    "In quantum optics, we model SPDC by 2-mode squeezing gates $\\hat{S}_2$ such that $\\hat{S}_2 |0 \\rangle |0 \\rangle = (1-\\chi^2) \\sum_{k=0}^{\\infty} \\chi^k |k \\rangle |k \\rangle$ (equation (3) of the paper). The first qubit will be used to measure the input while the second will be sent to the circuit. \n",
    "\n",
    "In SF, this 2-mode squeezing gate is called S2gate and takes as input a squeezing parameter $r$ related to $\\chi$ by the formula $r=\\tanh(\\chi)$"
   ]
  },
  {
   "cell_type": "code",
   "execution_count": 165,
   "metadata": {
    "collapsed": true
   },
   "outputs": [],
   "source": [
    "import numpy as np\n",
    "import scipy as sp\n",
    "import matplotlib.pyplot as plt\n",
    "from math import factorial, tanh\n",
    "import itertools\n",
    "\n",
    "import matplotlib.path as mpath\n",
    "import matplotlib.lines as mlines\n",
    "import matplotlib.patches as mpatches\n",
    "from matplotlib.collections import PatchCollection\n",
    "\n",
    "import strawberryfields as sf\n",
    "from strawberryfields.ops import *"
   ]
  },
  {
   "cell_type": "code",
   "execution_count": 93,
   "metadata": {
    "collapsed": true
   },
   "outputs": [],
   "source": [
    "colormap = np.array(plt.rcParams['axes.prop_cycle'].by_key()['color'])"
   ]
  },
  {
   "cell_type": "markdown",
   "metadata": {},
   "source": [
    "## Compute the circuit"
   ]
  },
  {
   "cell_type": "markdown",
   "metadata": {},
   "source": [
    "### Constants"
   ]
  },
  {
   "cell_type": "code",
   "execution_count": 2,
   "metadata": {
    "collapsed": true
   },
   "outputs": [],
   "source": [
    "r_squeezing = 0.4 # squeezing parameter for the S2gate\n",
    "cutoff = 7 # max number of photons computed per mode"
   ]
  },
  {
   "cell_type": "code",
   "execution_count": 3,
   "metadata": {
    "collapsed": true
   },
   "outputs": [],
   "source": [
    "# arguments of the boson sampler\n",
    "R_args = [0.5719, -1.9782, 2.0603, 0.0644]\n",
    "BS_args = [(0.7804, 0.8578),\n",
    "             (0.06406, 0.5165), \n",
    "             (0.473, 0.1176), \n",
    "             (0.563, 0.1517), \n",
    "             (0.1323, 0.9946), \n",
    "             (0.311, 0.3231),\n",
    "             (0.4348, 0.0798),\n",
    "             (0.4368, 0.6157)]"
   ]
  },
  {
   "cell_type": "markdown",
   "metadata": {},
   "source": [
    "### Circuit"
   ]
  },
  {
   "cell_type": "code",
   "execution_count": 4,
   "metadata": {
    "collapsed": true
   },
   "outputs": [],
   "source": [
    "eng, q = sf.Engine(8)"
   ]
  },
  {
   "cell_type": "code",
   "execution_count": 5,
   "metadata": {
    "collapsed": true
   },
   "outputs": [],
   "source": [
    "with eng:\n",
    "    # the first 4 qubits are used for input and the other 4 for output.\n",
    "    S2gate(r_squeezing) | (q[0], q[4])\n",
    "    S2gate(r_squeezing) | (q[1], q[5])\n",
    "    S2gate(r_squeezing) | (q[2], q[6])\n",
    "    S2gate(r_squeezing) | (q[3], q[7])\n",
    "\n",
    "    Rgate(R_args[0])  | q[4]\n",
    "    Rgate(R_args[1])  | q[5]\n",
    "    Rgate(R_args[2])  | q[6]\n",
    "    Rgate(R_args[3])  | q[7]\n",
    "\n",
    "    BSgate(*BS_args[0]) | (q[4], q[5])\n",
    "    BSgate(*BS_args[1]) | (q[6], q[7])\n",
    "    BSgate(*BS_args[2]) | (q[5], q[6])\n",
    "    BSgate(*BS_args[3]) | (q[4], q[5])\n",
    "    BSgate(*BS_args[4]) | (q[6], q[7])\n",
    "    BSgate(*BS_args[5]) | (q[5], q[6])\n",
    "    BSgate(*BS_args[6]) | (q[4], q[5])\n",
    "    BSgate(*BS_args[7]) | (q[6], q[7])"
   ]
  },
  {
   "cell_type": "markdown",
   "metadata": {},
   "source": [
    "### Running"
   ]
  },
  {
   "cell_type": "code",
   "execution_count": 6,
   "metadata": {
    "collapsed": true
   },
   "outputs": [],
   "source": [
    "state = eng.run('fock', cutoff_dim=cutoff)"
   ]
  },
  {
   "cell_type": "code",
   "execution_count": 7,
   "metadata": {
    "collapsed": true
   },
   "outputs": [],
   "source": [
    "probs = state.all_fock_probs()"
   ]
  },
  {
   "cell_type": "code",
   "execution_count": 8,
   "metadata": {
    "collapsed": true
   },
   "outputs": [],
   "source": [
    "probs = probs.reshape(*[cutoff]*8) # reshape s.t. probs[k_1, k_2,...] gives the proba of the state (k_1, k_2,...)"
   ]
  },
  {
   "cell_type": "code",
   "execution_count": 9,
   "metadata": {},
   "outputs": [
    {
     "data": {
      "text/plain": [
       "0.9989216634535326"
      ]
     },
     "execution_count": 9,
     "metadata": {},
     "output_type": "execute_result"
    }
   ],
   "source": [
    "np.sum(probs)"
   ]
  },
  {
   "cell_type": "markdown",
   "metadata": {
    "collapsed": true
   },
   "source": [
    "## Analysis"
   ]
  },
  {
   "cell_type": "markdown",
   "metadata": {},
   "source": [
    "### Get the unitary matrix\n",
    "See [Boson Sampling tutorial](https://strawberryfields.readthedocs.io/en/latest/tutorials/tutorial_boson_sampling.html#boson-tutorial)"
   ]
  },
  {
   "cell_type": "code",
   "execution_count": 10,
   "metadata": {
    "collapsed": true
   },
   "outputs": [],
   "source": [
    "R = np.diag([np.exp(R_args[0]*1j),np.exp(R_args[1]*1j),np.exp(R_args[2]*1j),np.exp(R_args[3]*1j)])"
   ]
  },
  {
   "cell_type": "code",
   "execution_count": 11,
   "metadata": {
    "collapsed": true
   },
   "outputs": [],
   "source": [
    "def get_BS_matrix(theta, phi):\n",
    "    return [[np.cos(theta), - np.exp(-1j * phi) * np.sin(theta)], [np.exp(1j * phi) * np.sin(theta), np.cos(theta)]]"
   ]
  },
  {
   "cell_type": "code",
   "execution_count": 12,
   "metadata": {
    "collapsed": true
   },
   "outputs": [],
   "source": [
    "BS_matrices = np.array([get_BS_matrix(theta, phi) for (theta,phi) in BS_args])"
   ]
  },
  {
   "cell_type": "code",
   "execution_count": 13,
   "metadata": {
    "collapsed": true
   },
   "outputs": [],
   "source": [
    "UBS1 = sp.linalg.block_diag(*BS_matrices[0:2])\n",
    "UBS2 = sp.linalg.block_diag([[1]], BS_matrices[2], [[1]])\n",
    "UBS3 = sp.linalg.block_diag(*BS_matrices[3:5])\n",
    "UBS4 = sp.linalg.block_diag([[1]], BS_matrices[5], [[1]])\n",
    "UBS5 = sp.linalg.block_diag(*BS_matrices[6:8])"
   ]
  },
  {
   "cell_type": "code",
   "execution_count": 14,
   "metadata": {
    "collapsed": true
   },
   "outputs": [],
   "source": [
    "U = np.linalg.multi_dot([UBS5, UBS4, UBS3, UBS2, UBS1, R])"
   ]
  },
  {
   "cell_type": "markdown",
   "metadata": {},
   "source": [
    "### Compute the theoretical probability"
   ]
  },
  {
   "cell_type": "markdown",
   "metadata": {},
   "source": [
    "We use mostly the section V of [this paper](https://arxiv.org/pdf/1212.2240.pdf) as well as [Boson Sampling tutorial](https://strawberryfields.readthedocs.io/en/latest/tutorials/tutorial_boson_sampling.html#boson-tutorial)"
   ]
  },
  {
   "cell_type": "code",
   "execution_count": 15,
   "metadata": {
    "collapsed": true
   },
   "outputs": [],
   "source": [
    "def perm(M):\n",
    "    n_output = M.shape[0]\n",
    "    n_input = M.shape[1]\n",
    "    if n_output != n_input: # no conservation of photon number\n",
    "        return 0\n",
    "    n = n_input\n",
    "    if n == 0:\n",
    "        return 1\n",
    "    d = np.ones(n)\n",
    "    j =  0\n",
    "    s = 1\n",
    "    f = np.arange(n)\n",
    "    v = M.sum(axis=0)\n",
    "    p = np.prod(v)\n",
    "    while (j < n-1):\n",
    "        v -= 2*d[j]*M[j]\n",
    "        d[j] = -d[j]\n",
    "        s = -s\n",
    "        prod = np.prod(v)\n",
    "        p += s*prod\n",
    "        f[0] = 0\n",
    "        f[j] = f[j+1]\n",
    "        f[j+1] = j+1\n",
    "        j = f[0]    \n",
    "    \n",
    "    return p/2**(n-1)"
   ]
  },
  {
   "cell_type": "code",
   "execution_count": 16,
   "metadata": {
    "collapsed": true
   },
   "outputs": [],
   "source": [
    "def get_proba_output(U, input, output):\n",
    "    list_rows = sum([[i] * output[i] for i in range(len(output))],[])\n",
    "    list_columns = sum([[i] * input[i] for i in range(len(input))],[])\n",
    "    U_st = U[:,list_columns][list_rows,:]\n",
    "    perm_squared = np.abs(perm(U_st))**2\n",
    "    denominator = np.prod([factorial(inp) for inp in input]) * np.prod([factorial(out) for out in output])\n",
    "    return perm_squared / denominator"
   ]
  },
  {
   "cell_type": "code",
   "execution_count": 17,
   "metadata": {
    "collapsed": true
   },
   "outputs": [],
   "source": [
    "def get_proba_input(input):\n",
    "    chi = np.tanh(r_squeezing)\n",
    "    n = np.sum(input)\n",
    "    m = len(input)\n",
    "    return (1 - chi**2)**m * chi**(2*n) # equation (7) of the original paper"
   ]
  },
  {
   "cell_type": "code",
   "execution_count": 18,
   "metadata": {
    "collapsed": true
   },
   "outputs": [],
   "source": [
    "def get_proba(U, result):\n",
    "    input, output = result[0:4], result[4:8]\n",
    "    return get_proba_output(U, input, output) * get_proba_input(input) # P(O) = P(O|I) P(I)"
   ]
  },
  {
   "cell_type": "markdown",
   "metadata": {},
   "source": [
    "## Compare the simulation with the theory"
   ]
  },
  {
   "cell_type": "code",
   "execution_count": 19,
   "metadata": {},
   "outputs": [
    {
     "name": "stdout",
     "output_type": "stream",
     "text": [
      "0.535996373869716\n",
      "0.5359963738697161\n"
     ]
    }
   ],
   "source": [
    "print(get_proba(U, [0,0,0,0,0,0,0,0]))\n",
    "print(probs[0,0,0,0,0,0,0,0])"
   ]
  },
  {
   "cell_type": "code",
   "execution_count": 20,
   "metadata": {},
   "outputs": [
    {
     "name": "stdout",
     "output_type": "stream",
     "text": [
      "0.008821826459915328\n",
      "0.008821826459915326\n"
     ]
    }
   ],
   "source": [
    "print(get_proba(U, [1,0,0,0,1,0,0,0]))\n",
    "print(probs[1,0,0,0,1,0,0,0])"
   ]
  },
  {
   "cell_type": "markdown",
   "metadata": {
    "collapsed": true
   },
   "source": [
    "## Visualization"
   ]
  },
  {
   "cell_type": "markdown",
   "metadata": {},
   "source": [
    "### Make the probabilities sum to 1\n",
    "Due to computational issues, the sum of the probability does not equal 1. Since it prevents us from sampling correctly, we choose to add the missing weight to the outcome [0,0,0,0, 0,0,0,0]"
   ]
  },
  {
   "cell_type": "code",
   "execution_count": 68,
   "metadata": {
    "collapsed": true
   },
   "outputs": [],
   "source": [
    "probs[0,0,0,0, 0,0,0,0] += 1 - np.sum(probs)"
   ]
  },
  {
   "cell_type": "code",
   "execution_count": 69,
   "metadata": {},
   "outputs": [
    {
     "data": {
      "text/plain": [
       "1.0"
      ]
     },
     "execution_count": 69,
     "metadata": {},
     "output_type": "execute_result"
    }
   ],
   "source": [
    "np.sum(probs)"
   ]
  },
  {
   "cell_type": "markdown",
   "metadata": {},
   "source": [
    "### Sample"
   ]
  },
  {
   "cell_type": "code",
   "execution_count": 168,
   "metadata": {},
   "outputs": [
    {
     "data": {
      "text/plain": [
       "(0, 0, 0, 0, 0, 0, 0, 0)"
      ]
     },
     "execution_count": 168,
     "metadata": {},
     "output_type": "execute_result"
    }
   ],
   "source": [
    "list_choices = list(itertools.product(*[range(cutoff)]*8))\n",
    "list_choices[0]"
   ]
  },
  {
   "cell_type": "code",
   "execution_count": 169,
   "metadata": {
    "collapsed": true
   },
   "outputs": [],
   "source": [
    "list_probs = [probs[list_choices[i]] for i in range(len(list_choices))]"
   ]
  },
  {
   "cell_type": "code",
   "execution_count": 170,
   "metadata": {},
   "outputs": [],
   "source": [
    "choice = list_choices[np.random.choice(range(len(list_choices)), p=list_probs)]"
   ]
  },
  {
   "cell_type": "markdown",
   "metadata": {},
   "source": [
    "### Visualize"
   ]
  },
  {
   "cell_type": "code",
   "execution_count": 196,
   "metadata": {},
   "outputs": [
    {
     "data": {
      "text/plain": [
       "(-0.05, 1.05, -0.025, 0.525)"
      ]
     },
     "execution_count": 196,
     "metadata": {},
     "output_type": "execute_result"
    },
    {
     "data": {
      "image/png": "[encoded data removed]",
      "text/plain": [
       "<Figure size 720x576 with 1 Axes>"
      ]
     },
     "metadata": {},
     "output_type": "display_data"
    }
   ],
   "source": [
    "# Constants\n",
    "\n",
    "color_rect = colormap[0]\n",
    "color_lines = \"black\"\n",
    "color_photons = \"#F5D76E\"\n",
    "radius_photons = 0.02\n",
    "margin_photons = 0.01\n",
    "x_begin_rect, x_end_rect = 0.4, 0.6\n",
    "\n",
    "# Sample\n",
    "\n",
    "choice = list_choices[np.random.choice(range(len(list_choices)), p=list_probs)]\n",
    "\n",
    "# Plot\n",
    "\n",
    "fig, ax = plt.subplots()\n",
    "fig.set_size_inches(10, 8)\n",
    "\n",
    "rect = mpatches.Rectangle((x_begin_rect,0),x_end_rect-x_begin_rect, 0.5,edgecolor=color_rect,facecolor=color_rect)\n",
    "ax.add_patch(rect)\n",
    "\n",
    "for i_line, y_line in enumerate(np.linspace(0.1,0.4,4), 0):\n",
    "    # draw the lines\n",
    "    plt.plot([0,x_begin_rect], [y_line,y_line], color=color_lines)\n",
    "    plt.plot([x_end_rect, 1], [y_line,y_line], color=color_lines)\n",
    "\n",
    "    # draw the input photons\n",
    "    for i_photon in range(choice[i_line]):\n",
    "        x_photon = x_begin_rect - margin_photons - radius_photons - i_photon*(radius_photons*2 + margin_photons)\n",
    "        circle = mpatches.Circle([x_photon,y_line], radius_photons, color=color_photons, zorder=3)\n",
    "        ax.add_patch(circle)\n",
    "    \n",
    "    # draw the output photons\n",
    "    for i_photon in range(choice[4 + i_line]):\n",
    "        x_photon = x_end_rect + margin_photons + radius_photons + i_photon*(radius_photons*2 + margin_photons)\n",
    "        circle = mpatches.Circle([x_photon,y_line], radius_photons, color=color_photons, zorder=3)\n",
    "        ax.add_patch(circle)\n",
    "        \n",
    "plt.title(\"Choice: {}\".format(choice))\n",
    "plt.axis('equal')\n",
    "plt.axis('off')"
   ]
  },
  {
   "cell_type": "code",
   "execution_count": null,
   "metadata": {
    "collapsed": true
   },
   "outputs": [],
   "source": []
  }
 ],
 "metadata": {
  "kernelspec": {
   "display_name": "Python [conda env:sf]",
   "language": "python",
   "name": "conda-env-sf-py"
  },
  "language_info": {
   "codemirror_mode": {
    "name": "ipython",
    "version": 3
   },
   "file_extension": ".py",
   "mimetype": "text/x-python",
   "name": "python",
   "nbconvert_exporter": "python",
   "pygments_lexer": "ipython3",
   "version": "3.6.5"
  }
 },
 "nbformat": 4,
 "nbformat_minor": 2
}
